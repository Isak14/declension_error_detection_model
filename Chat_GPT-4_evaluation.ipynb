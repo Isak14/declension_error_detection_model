{
 "cells": [
  {
   "cell_type": "markdown",
   "id": "dbf04292",
   "metadata": {},
   "source": [
    "## Evaluate ChatGPT4"
   ]
  },
  {
   "cell_type": "code",
   "execution_count": null,
   "id": "c67922a0",
   "metadata": {},
   "outputs": [],
   "source": [
    "import csv\n",
    "\n",
    "truePos = 0\n",
    "trueNeg = 0\n",
    "falsePos = 0\n",
    "falseNeg = 0\n",
    "\n",
    "# Open the csv file, and read each sentence\n",
    "with open('./generated_datasets/shuffled_validation_file_CHATGPT.csv') as csv_file:\n",
    "    my_file = csv.reader(csv_file)\n",
    "    #next(my_file, None)  # skip the headers\n",
    "    for row in my_file:\n",
    "        if row[2] == \"correct\":\n",
    "            if \"ncorrect\" in row[3]:\n",
    "                falseNeg += 1\n",
    "            else:\n",
    "                truePos += 1\n",
    "        elif row[2] == \"incorrect\":\n",
    "            if \"ncorrect\" in row[3]:\n",
    "                trueNeg += 1\n",
    "            else:\n",
    "                falsePos += 1\n",
    "        else:\n",
    "            print(\"ERROR 101\", row)\n",
    "    \n",
    "print(\"True Positives:  \",truePos)\n",
    "print(\"True Negatives:  \",trueNeg)\n",
    "print(\"False Positives: \",falsePos)\n",
    "print(\"False Negatives: \",falseNeg)\n",
    "\n",
    "accuracy = (truePos+trueNeg)/(truePos+trueNeg+falsePos+falseNeg)\n",
    "precision = truePos/(truePos+falsePos)\n",
    "recall = truePos/(truePos+falseNeg)\n",
    "f1 = 2* ((precision*recall)/(precision+recall))\n",
    "\n",
    "print(\"Accuracy: \",accuracy)\n",
    "print(\"Precision: \",precision)\n",
    "print(\"Recall: \",recall)\n",
    "print(\"F1-score: \",f1)"
   ]
  }
 ],
 "metadata": {
  "kernelspec": {
   "display_name": "Python 3 (ipykernel)",
   "language": "python",
   "name": "python3"
  },
  "language_info": {
   "codemirror_mode": {
    "name": "ipython",
    "version": 3
   },
   "file_extension": ".py",
   "mimetype": "text/x-python",
   "name": "python",
   "nbconvert_exporter": "python",
   "pygments_lexer": "ipython3",
   "version": "3.9.16"
  }
 },
 "nbformat": 4,
 "nbformat_minor": 5
}
