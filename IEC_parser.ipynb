{
 "cells": [
  {
   "cell_type": "markdown",
   "metadata": {},
   "source": [
    "Note: This code was made to run on Google Colab, some minor adjustments to the file loading may be needed if you want to run it locally "
   ]
  },
  {
   "cell_type": "markdown",
   "metadata": {
    "id": "-CX98O6pEcac"
   },
   "source": [
    "# Setup"
   ]
  },
  {
   "cell_type": "markdown",
   "metadata": {
    "id": "Zh8pc2XYwI_H"
   },
   "source": [
    "## Imports"
   ]
  },
  {
   "cell_type": "code",
   "execution_count": null,
   "metadata": {
    "colab": {
     "base_uri": "https://localhost:8080/"
    },
    "executionInfo": {
     "elapsed": 26080,
     "status": "ok",
     "timestamp": 1679406996728,
     "user": {
      "displayName": "Ísak Grímsson",
      "userId": "10374989674386101784"
     },
     "user_tz": 0
    },
    "id": "Ix9PC7uiEcAi",
    "outputId": "06378d4a-64d7-4fe4-f28e-e58f8dfe0c27"
   },
   "outputs": [],
   "source": [
    "# Generic Imports\n",
    "import os\n",
    "import csv\n",
    "\n",
    "# Install XML reader dependencies\n",
    "!pip install beautifulsoup4\n",
    "!pip install lxml\n",
    "from bs4 import BeautifulSoup as bs"
   ]
  },
  {
   "cell_type": "markdown",
   "metadata": {
    "id": "tnafN7X2wFUe"
   },
   "source": [
    "## Load the dataset"
   ]
  },
  {
   "cell_type": "code",
   "execution_count": null,
   "metadata": {
    "colab": {
     "background_save": true,
     "base_uri": "https://localhost:8080/",
     "height": 38
    },
    "id": "bowNYGK-wadf"
   },
   "outputs": [],
   "source": [
    "# Load the iceErrorCorpus XML files in a zip folder named 'data', and then unzip it\n",
    "from google.colab import files\n",
    "uploaded = files.upload()\n",
    "!unzip data.zip"
   ]
  },
  {
   "cell_type": "markdown",
   "metadata": {
    "id": "9gLYjTgwNXLp"
   },
   "source": [
    "## Configure the output settings"
   ]
  },
  {
   "cell_type": "code",
   "execution_count": null,
   "metadata": {
    "id": "lsdufIXBNe8I"
   },
   "outputs": [],
   "source": [
    "removeCorrections = True\n",
    "filterSomeErrors = True\n",
    "maybeTestTheseLater = ['wrong-prep','ind4def','collocation','n4nn','í4ý','i4y','ind4sub-verb','nn4n','dir4loc','u4y',\n",
    "                       'af4að','pro4reflexive','að4af','agreement-concord','nominal-inflection','compound-collocation',\n",
    "                       'gen-escape','agreement-pred','adjective-inflection','def4ind','agreement-pro','case-prep','verb-inflection',\n",
    "                       'sub4ind-conj','dative-sub','adj4adv','pro-inflection','sub4ind','act4mid','mid4act','ind4sub-conj',\n",
    "                      'numeral-inflection','case-verb','genitive''wrong-prep','ind4def','collocation','n4nn','í4ý',\n",
    "                      'i4y','ind4sub-verb','nn4n','dir4loc','u4y','af4að','pro4reflexive','að4af']\n",
    "errorsToBeIncluded = ['nominal-inflection','adjective-inflection',,'verb-inflection','pro-inflection','numeral-inflection']"
   ]
  },
  {
   "cell_type": "markdown",
   "metadata": {
    "id": "w3PNPVWl-gW6"
   },
   "source": [
    "## Load helper functions meant to be abstracted"
   ]
  },
  {
   "cell_type": "code",
   "execution_count": null,
   "metadata": {
    "id": "5vfwjCHJRdRs"
   },
   "outputs": [],
   "source": [
    "def returnBSSentences(document, removeCorrected):\n",
    "  content = []\n",
    "  with open(document, \"r\") as file:\n",
    "    content = file.readlines()\n",
    "  content = \"\".join(content)\n",
    "  bs_content = bs(content, \"lxml\")\n",
    "  # If true: Remove the \"corrected\" tag and it's content from the incorrect sentences\n",
    "  if(removeCorrected == True):\n",
    "    for correction in bs_content(\"corrected\"):\n",
    "      correction.decompose()\n",
    "  return bs_content.find_all(\"s\")\n",
    "\n",
    "def preprocessSentence(taggedSentence):\n",
    "    # Create a plainText string out of the BS sentence\n",
    "    taggedSentence = sentence.find_all(\"w\")\n",
    "    plainTextSentence = ''\n",
    "    for tag in taggedSentence:\n",
    "      plainTextSentence += tag.get_text() + \" \"\n",
    "    plainTextSentence =  plainTextSentence[:-1]\n",
    "    plainTextSentence += '.'\n",
    "    # If correct, send to the CSV file\n",
    "    if(sentence.find(\"revision\")==None):\n",
    "      return [plainTextSentence ,\"correct\",\"NA\"]\n",
    "    # If incorrect, strip the error from the sentence, log the error code, and send to the CSV File\n",
    "    else:\n",
    "      myString = str(sentence.find_all(\"error\"))\n",
    "      errorCodes =[]\n",
    "      loopExit = False\n",
    "      while(loopExit==False):\n",
    "        index = myString.find(\"xtype=\")\n",
    "        if(index==-1):\n",
    "          loopExit=True\n",
    "        else:\n",
    "          myString = myString[index+7:]\n",
    "          index = myString.find(\">\")\n",
    "          errorCodes.append(myString[:index-1])\n",
    "          myString = myString[index:]\n",
    "      if(filterSomeErrors == True):\n",
    "        # For each incorrect sentence, categorize it into declension or non declension errors\n",
    "        for error in errorCodes:\n",
    "          if error in errorsToBeIncluded:\n",
    "            return [plainTextSentence ,\"incorrect\",errorCodes]\n",
    "      else:\n",
    "        return [plainTextSentence ,\"incorrect\",errorCodes]\n",
    "\n",
    "def createCSV(data):\n",
    "  with open('labeledData.csv', 'w', newline='') as file:\n",
    "    writer = csv.writer(file)\n",
    "    writer.writerow([\"text\",\"label\",\"Error\"])\n",
    "    writer.writerows(data)\n",
    "\n",
    "\n",
    "# A currently unused function that was used to help decide which Error codes are relevant\n",
    "def outputUniqueErrorCodes():\n",
    "  import pandas as pd\n",
    "  data2 = pd.read_csv(\"labeledData.csv\")\n",
    "  data2 = data2.drop('text', axis=1)\n",
    "  data2 = data2.drop('label', axis=1)\n",
    "  errorCodes = pd.unique(list(data2['Error']))\n",
    "  df = pd.DataFrame(errorCodes)\n",
    "  print(len(errorCodes))\n",
    "  print(errorCodes)"
   ]
  },
  {
   "cell_type": "markdown",
   "metadata": {
    "id": "gyphMhDxG3uO"
   },
   "source": [
    "# Parse the files"
   ]
  },
  {
   "cell_type": "code",
   "execution_count": null,
   "metadata": {
    "id": "5Mi35YmFGJfI"
   },
   "outputs": [],
   "source": [
    "# Create an array to hold all the individual sentences after they have been parsed, but before they are written to a CSV file\n",
    "output = []\n",
    "\n",
    "# Individually load each file in the data folder\n",
    "for document in os.scandir('data'):\n",
    "    # Create a bs (beautiful soup) list filled with setences\n",
    "    sentenceSoup = returnBSSentences(document, removeCorrections)\n",
    "\n",
    "    # For each sentence in that object, process them into the format expected by the model, and append them to our array\n",
    "    for sentence in sentenceSoup:\n",
    "      x = preprocessSentence(sentence)\n",
    "      if x is not None:\n",
    "        output.append(x)\n",
    "\n",
    "#Create a CSV file to record the data from our array\n",
    "createCSV(output)"
   ]
  },
  {
   "cell_type": "markdown",
   "metadata": {
    "id": "O3Or5cft3El2"
   },
   "source": [
    "# Download the file to your local PC"
   ]
  },
  {
   "cell_type": "code",
   "execution_count": null,
   "metadata": {
    "colab": {
     "base_uri": "https://localhost:8080/",
     "height": 17
    },
    "executionInfo": {
     "elapsed": 36,
     "status": "ok",
     "timestamp": 1677857650482,
     "user": {
      "displayName": "Ísak Grímsson",
      "userId": "10374989674386101784"
     },
     "user_tz": 0
    },
    "id": "VsJaTnSqzLQn",
    "outputId": "42de7162-afd9-41f6-85a6-affbd69863df"
   },
   "outputs": [],
   "source": [
    "files.download(\"labeledData.csv\")"
   ]
  }
 ],
 "metadata": {
  "colab": {
   "authorship_tag": "ABX9TyP6GiUg8e0DQgiC0cnZD13p",
   "name": "",
   "toc_visible": true,
   "version": ""
  },
  "kernelspec": {
   "display_name": "Python 3 (ipykernel)",
   "language": "python",
   "name": "python3"
  },
  "language_info": {
   "codemirror_mode": {
    "name": "ipython",
    "version": 3
   },
   "file_extension": ".py",
   "mimetype": "text/x-python",
   "name": "python",
   "nbconvert_exporter": "python",
   "pygments_lexer": "ipython3",
   "version": "3.9.16"
  }
 },
 "nbformat": 4,
 "nbformat_minor": 1
}
