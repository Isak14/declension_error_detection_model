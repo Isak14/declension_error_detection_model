{
 "cells": [
  {
   "cell_type": "markdown",
   "metadata": {},
   "source": [
    "Note: This code was made to run on Google Colab, some minor adjustments to the file loading may be needed if you want to run it locally"
   ]
  },
  {
   "cell_type": "markdown",
   "metadata": {
    "id": "-CX98O6pEcac"
   },
   "source": [
    "# Setup"
   ]
  },
  {
   "cell_type": "markdown",
   "metadata": {
    "id": "Zh8pc2XYwI_H"
   },
   "source": [
    "## Imports"
   ]
  },
  {
   "cell_type": "code",
   "execution_count": null,
   "metadata": {
    "colab": {
     "base_uri": "https://localhost:8080/"
    },
    "executionInfo": {
     "elapsed": 13470,
     "status": "ok",
     "timestamp": 1679407143128,
     "user": {
      "displayName": "Ísak Grímsson",
      "userId": "10374989674386101784"
     },
     "user_tz": 0
    },
    "id": "Ix9PC7uiEcAi",
    "outputId": "17aa0705-7b46-42a6-a7dd-20831fa78c45"
   },
   "outputs": [],
   "source": [
    "# Generic Imports\n",
    "import os\n",
    "import csv\n",
    "\n",
    "# Install XML reader dependencies\n",
    "!pip install beautifulsoup4\n",
    "!pip install lxml\n",
    "from bs4 import BeautifulSoup as bs"
   ]
  },
  {
   "cell_type": "markdown",
   "metadata": {
    "id": "tnafN7X2wFUe"
   },
   "source": [
    "## Load the dataset"
   ]
  },
  {
   "cell_type": "code",
   "execution_count": null,
   "metadata": {
    "colab": {
     "base_uri": "https://localhost:8080/",
     "height": 1000
    },
    "executionInfo": {
     "elapsed": 199219,
     "status": "ok",
     "timestamp": 1679407342333,
     "user": {
      "displayName": "Ísak Grímsson",
      "userId": "10374989674386101784"
     },
     "user_tz": 0
    },
    "id": "bowNYGK-wadf",
    "outputId": "8050a648-717f-4581-c8e6-6f158df17d9f"
   },
   "outputs": [],
   "source": [
    "# Load the iceErrorCorpus XML files in a zip folder named 'data', and then unzip it\n",
    "from google.colab import files\n",
    "uploaded = files.upload()\n",
    "!unzip data.zip"
   ]
  },
  {
   "cell_type": "markdown",
   "metadata": {
    "id": "9gLYjTgwNXLp"
   },
   "source": [
    "## Configure the output settings"
   ]
  },
  {
   "cell_type": "code",
   "execution_count": null,
   "metadata": {
    "executionInfo": {
     "elapsed": 3,
     "status": "ok",
     "timestamp": 1679409974312,
     "user": {
      "displayName": "Ísak Grímsson",
      "userId": "10374989674386101784"
     },
     "user_tz": 0
    },
    "id": "lsdufIXBNe8I"
   },
   "outputs": [],
   "source": [
    "removeCorrections = False\n",
    "filterSomeErrors = True\n",
    "# BREADCRUMBS\n",
    "maybeTestTheseLater = ['wrong-prep','ind4def','collocation','n4nn','í4ý','i4y','ind4sub-verb','nn4n','dir4loc','u4y',\n",
    "                       'af4að','pro4reflexive','að4af','agreement-concord','nominal-inflection','compound-collocation',\n",
    "                       'gen-escape','agreement-pred','adjective-inflection','def4ind','agreement-pro','case-prep','verb-inflection',\n",
    "                       'sub4ind-conj','dative-sub','adj4adv','pro-inflection','sub4ind','act4mid','mid4act','ind4sub-conj',\n",
    "                      'numeral-inflection','case-verb','genitive''wrong-prep','ind4def','collocation','n4nn','í4ý',\n",
    "                      'i4y','ind4sub-verb','nn4n','dir4loc','u4y','af4að','pro4reflexive','að4af']\n",
    "errorsToBeIncluded = ['nominal-inflection','adjective-inflection','verb-inflection','pro-inflection','numeral-inflection']"
   ]
  },
  {
   "cell_type": "markdown",
   "metadata": {
    "id": "w3PNPVWl-gW6"
   },
   "source": [
    "## Load helper functions meant to be abstracted"
   ]
  },
  {
   "cell_type": "code",
   "execution_count": null,
   "metadata": {
    "executionInfo": {
     "elapsed": 2,
     "status": "ok",
     "timestamp": 1679412198007,
     "user": {
      "displayName": "Ísak Grímsson",
      "userId": "10374989674386101784"
     },
     "user_tz": 0
    },
    "id": "5vfwjCHJRdRs"
   },
   "outputs": [],
   "source": [
    "def returnCorrectBSSentences(document):\n",
    "  content = []\n",
    "  with open(document, \"r\") as file:\n",
    "    content = file.readlines()\n",
    "  content = \"\".join(content)\n",
    "  bs_correct_content = bs(content, \"lxml\")\n",
    "  for correction in bs_correct_content(\"original\"):\n",
    "    correction.decompose()\n",
    "  return bs_correct_content.find_all(\"s\")\n",
    "\n",
    "def returnIncorrectBSSentences(document):\n",
    "  content = []\n",
    "  with open(document, \"r\") as file:\n",
    "    content = file.readlines()\n",
    "  content = \"\".join(content)\n",
    "  bs_incorrect_content = bs(content, \"lxml\")\n",
    "  for correction in bs_incorrect_content(\"corrected\"):\n",
    "    correction.decompose()\n",
    "  return bs_incorrect_content.find_all(\"s\")\n",
    "\n",
    "def preprocessSentence(taggedSentence, label):\n",
    "    # Create a plainText string out of the BS sentence\n",
    "    taggedSentence = sentence.find_all(\"w\")\n",
    "    plainTextSentence = ''\n",
    "    for tag in taggedSentence:\n",
    "      plainTextSentence += tag.get_text() + \" \"\n",
    "    plainTextSentence =  plainTextSentence[:-1]\n",
    "    plainTextSentence += '.'\n",
    "    # If correct, send to the CSV file\n",
    "    if(sentence.find(\"revision\")==None):\n",
    "      doNothing = 0\n",
    "    # If incorrect, strip the error from the sentence, log the error code, and send to the CSV File\n",
    "    else:\n",
    "      myString = str(sentence.find_all(\"error\"))\n",
    "      errorCodes =[]\n",
    "      loopExit = False\n",
    "      while(loopExit==False):\n",
    "        index = myString.find(\"xtype=\")\n",
    "        if(index==-1):\n",
    "          loopExit=True\n",
    "        else:\n",
    "          myString = myString[index+7:]\n",
    "          index = myString.find(\">\")\n",
    "          errorCodes.append(myString[:index-1])\n",
    "          myString = myString[index:]\n",
    "      if(filterSomeErrors == True):\n",
    "        # For each incorrect sentence, categorize it into declension or non declension errors\n",
    "        for error in errorCodes:\n",
    "          if error in errorsToBeIncluded:\n",
    "            return [plainTextSentence ,label,errorCodes]\n",
    "      else:\n",
    "        return [plainTextSentence ,label,errorCodes]\n",
    "\n",
    "def createCSV(data):\n",
    "  with open('CorrectionsData.csv', 'w', newline='') as file:\n",
    "    writer = csv.writer(file)\n",
    "    writer.writerow([\"text\",\"label\",\"Error\"])\n",
    "    writer.writerows(data)\n",
    "\n",
    "\n",
    "# A currently unused function that was used to help decide which Error codes are relevant\n",
    "def outputUniqueErrorCodes():\n",
    "  import pandas as pd\n",
    "  data2 = pd.read_csv(\"labeledData.csv\")\n",
    "  data2 = data2.drop('text', axis=1)\n",
    "  data2 = data2.drop('label', axis=1)\n",
    "  errorCodes = pd.unique(list(data2['Error']))\n",
    "  df = pd.DataFrame(errorCodes)\n",
    "  print(len(errorCodes))\n",
    "  print(errorCodes)"
   ]
  },
  {
   "cell_type": "markdown",
   "metadata": {
    "id": "gyphMhDxG3uO"
   },
   "source": [
    "# Parse the files"
   ]
  },
  {
   "cell_type": "code",
   "execution_count": null,
   "metadata": {
    "colab": {
     "base_uri": "https://localhost:8080/"
    },
    "executionInfo": {
     "elapsed": 169207,
     "status": "ok",
     "timestamp": 1679413098148,
     "user": {
      "displayName": "Ísak Grímsson",
      "userId": "10374989674386101784"
     },
     "user_tz": 0
    },
    "id": "5Mi35YmFGJfI",
    "outputId": "404a7743-962d-45a0-e493-1233527c8e25"
   },
   "outputs": [],
   "source": [
    "# Create an array to hold all the individual sentences after they have been parsed, but before they are written to a CSV file\n",
    "correctOutput = []\n",
    "incorrectOutput = []\n",
    "\n",
    "# Individually load each file in the data folder\n",
    "for document in os.scandir('data'):\n",
    "    # Create a bs (beautiful soup) list filled with setences\n",
    "    correctSentenceSoup = returnCorrectBSSentences(document)\n",
    "    incorrectSentenceSoup = returnIncorrectBSSentences(document)\n",
    "\n",
    "    # For each sentence in that object, process them into the format expected by the model, and append them to our array\n",
    "    for sentence in correctSentenceSoup:\n",
    "      x = preprocessSentence(sentence,\"correct\")\n",
    "      if x is not None:\n",
    "        correctOutput.append(x)\n",
    "\n",
    "    # For each sentence in that object, process them into the format expected by the model, and append them to our array\n",
    "    for sentence in incorrectSentenceSoup:\n",
    "      y = preprocessSentence(sentence,\"incorrect\")\n",
    "      if y is not None:\n",
    "        incorrectOutput.append(y)\n"
   ]
  },
  {
   "cell_type": "markdown",
   "metadata": {
    "id": "O3Or5cft3El2"
   },
   "source": [
    "# Download the file to your local PC"
   ]
  },
  {
   "cell_type": "code",
   "execution_count": null,
   "metadata": {
    "colab": {
     "base_uri": "https://localhost:8080/",
     "height": 17
    },
    "executionInfo": {
     "elapsed": 9,
     "status": "ok",
     "timestamp": 1679413190898,
     "user": {
      "displayName": "Ísak Grímsson",
      "userId": "10374989674386101784"
     },
     "user_tz": 0
    },
    "id": "VsJaTnSqzLQn",
    "outputId": "034054d2-0c33-4bcd-ac19-27f2c6fd4489"
   },
   "outputs": [],
   "source": [
    "#Create a CSV file to record the data from our array\n",
    "createCSV(correctOutput)\n",
    "files.download(\"CorrectionsData.csv\")"
   ]
  },
  {
   "cell_type": "code",
   "execution_count": null,
   "metadata": {
    "colab": {
     "base_uri": "https://localhost:8080/",
     "height": 34
    },
    "executionInfo": {
     "elapsed": 405,
     "status": "ok",
     "timestamp": 1679413209839,
     "user": {
      "displayName": "Ísak Grímsson",
      "userId": "10374989674386101784"
     },
     "user_tz": 0
    },
    "id": "mNlR3jdqzuEo",
    "outputId": "0b473641-f5b9-41c0-8f77-4c4a635d3584"
   },
   "outputs": [],
   "source": [
    "#Create a CSV file to record the data from our array\n",
    "createCSV(incorrectOutput)\n",
    "files.download(\"CorrectionsData.csv\")"
   ]
  }
 ],
 "metadata": {
  "colab": {
   "authorship_tag": "ABX9TyMnF95L34sbwYXTAYFg9ieS",
   "provenance": [
    {
     "file_id": "1lnrVXwoCgzhsQrtHZyxjOcAN9zZiGFtL",
     "timestamp": 1679407065892
    }
   ],
   "toc_visible": true
  },
  "kernelspec": {
   "display_name": "Python 3 (ipykernel)",
   "language": "python",
   "name": "python3"
  },
  "language_info": {
   "codemirror_mode": {
    "name": "ipython",
    "version": 3
   },
   "file_extension": ".py",
   "mimetype": "text/x-python",
   "name": "python",
   "nbconvert_exporter": "python",
   "pygments_lexer": "ipython3",
   "version": "3.9.16"
  }
 },
 "nbformat": 4,
 "nbformat_minor": 1
}
